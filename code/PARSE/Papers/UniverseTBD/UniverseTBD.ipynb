{
 "cells": [
  {
   "cell_type": "code",
   "execution_count": 1,
   "id": "5c025aae",
   "metadata": {},
   "outputs": [
    {
     "name": "stdout",
     "output_type": "stream",
     "text": [
      "Requirement already satisfied: beautifulsoup4 in c:\\users\\6\\anaconda3\\lib\\site-packages (4.11.1)\n",
      "Requirement already satisfied: requests in c:\\users\\6\\anaconda3\\lib\\site-packages (2.27.1)\n",
      "Requirement already satisfied: pandas in c:\\users\\6\\anaconda3\\lib\\site-packages (1.4.2)\n",
      "Requirement already satisfied: lxml in c:\\users\\6\\anaconda3\\lib\\site-packages (4.8.0)\n",
      "Collecting html5lib\n",
      "  Downloading html5lib-1.1-py2.py3-none-any.whl (112 kB)\n",
      "Requirement already satisfied: soupsieve>1.2 in c:\\users\\6\\anaconda3\\lib\\site-packages (from beautifulsoup4) (2.3.1)\n",
      "Requirement already satisfied: charset-normalizer~=2.0.0 in c:\\users\\6\\anaconda3\\lib\\site-packages (from requests) (2.0.4)\n",
      "Requirement already satisfied: certifi>=2017.4.17 in c:\\users\\6\\anaconda3\\lib\\site-packages (from requests) (2021.10.8)\n",
      "Requirement already satisfied: idna<4,>=2.5 in c:\\users\\6\\anaconda3\\lib\\site-packages (from requests) (3.3)\n",
      "Requirement already satisfied: urllib3<1.27,>=1.21.1 in c:\\users\\6\\anaconda3\\lib\\site-packages (from requests) (1.26.9)\n",
      "Requirement already satisfied: numpy>=1.18.5 in c:\\users\\6\\anaconda3\\lib\\site-packages (from pandas) (1.21.5)\n",
      "Requirement already satisfied: pytz>=2020.1 in c:\\users\\6\\anaconda3\\lib\\site-packages (from pandas) (2021.3)\n",
      "Requirement already satisfied: python-dateutil>=2.8.1 in c:\\users\\6\\anaconda3\\lib\\site-packages (from pandas) (2.8.2)\n",
      "Requirement already satisfied: six>=1.9 in c:\\users\\6\\anaconda3\\lib\\site-packages (from html5lib) (1.16.0)\n",
      "Requirement already satisfied: webencodings in c:\\users\\6\\anaconda3\\lib\\site-packages (from html5lib) (0.5.1)\n",
      "Installing collected packages: html5lib\n",
      "Successfully installed html5lib-1.1\n",
      "Note: you may need to restart the kernel to use updated packages.\n"
     ]
    }
   ],
   "source": [
    "pip install beautifulsoup4 requests pandas lxml html5lib"
   ]
  },
  {
   "cell_type": "code",
   "execution_count": 4,
   "id": "4e81ab70",
   "metadata": {},
   "outputs": [],
   "source": [
    "import requests\n",
    "import pandas as pd\n",
    "from bs4 import BeautifulSoup\n",
    "\n",
    "def download_paper(url, paper_id):\n",
    "    pdf_url = url.replace('abs', 'pdf')\n",
    "    response = requests.get(pdf_url)\n",
    "\n",
    "    with open(f'{paper_id}.pdf', 'wb') as f:\n",
    "        f.write(response.content)\n",
    "\n",
    "def parse_and_save_html(file_path):\n",
    "    # read the entire HTML file\n",
    "    papers = pd.read_html(file_path, flavor='html5lib', header=0)[0]\n",
    "    \n",
    "    # save to csv\n",
    "    papers.to_csv('papers.csv', index=False)\n",
    "\n",
    "    # convert dataframe to a list of dictionaries\n",
    "    papers_list = papers.to_dict('records')\n",
    "\n",
    "    for paper in papers_list:\n",
    "        download_paper(paper['url'], str(paper['ArxivID']))\n",
    "\n",
    "if __name__ == '__main__':\n",
    "    file_path = 'arXiv_astronomy_papers.html'  # replace this with your actual HTML file path\n",
    "    parse_and_save_html(file_path)\n"
   ]
  }
 ],
 "metadata": {
  "kernelspec": {
   "display_name": "Python 3 (ipykernel)",
   "language": "python",
   "name": "python3"
  },
  "language_info": {
   "codemirror_mode": {
    "name": "ipython",
    "version": 3
   },
   "file_extension": ".py",
   "mimetype": "text/x-python",
   "name": "python",
   "nbconvert_exporter": "python",
   "pygments_lexer": "ipython3",
   "version": "3.9.12"
  }
 },
 "nbformat": 4,
 "nbformat_minor": 5
}
